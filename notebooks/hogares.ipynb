{
 "cells": [
  {
   "cell_type": "markdown",
   "id": "da9c5f6e",
   "metadata": {},
   "source": [
    "# EPH - Hogares"
   ]
  },
  {
   "cell_type": "markdown",
   "id": "28ba673b",
   "metadata": {},
   "source": [
    "## Libererias"
   ]
  },
  {
   "cell_type": "code",
   "execution_count": 7,
   "id": "6666c4f9",
   "metadata": {},
   "outputs": [],
   "source": [
    "import sys\n",
    "import os\n",
    "import csv\n",
    "from pathlib import Path\n"
   ]
  },
  {
   "cell_type": "markdown",
   "id": "611f4e41",
   "metadata": {},
   "source": [
    "Antes de comenzar, se establece la ruta a la fuente para no tener problemas en la importación de módulos."
   ]
  },
  {
   "cell_type": "code",
   "execution_count": 9,
   "id": "e9d784d7",
   "metadata": {},
   "outputs": [
    {
     "name": "stdout",
     "output_type": "stream",
     "text": [
      "Ruta de 'src': c:\\Users\\PC\\Documents\\1) Estudios y Programacion\\Facultad\\Taller-de-Python\\EncuestAR\\src\n"
     ]
    }
   ],
   "source": [
    "# Ajustar la ruta para que Python reconozca la carpeta \"src\"\n",
    "ruta_proyecto = os.path.abspath(os.path.join(\"..\"))  \n",
    "sys.path.append(ruta_proyecto) \n",
    "# Verificación (debe mostrar la ruta a \"src/\")\n",
    "print(\"Ruta de 'src':\", os.path.join(ruta_proyecto, \"src\"))"
   ]
  },
  {
   "cell_type": "markdown",
   "id": "0b1f974e",
   "metadata": {},
   "source": [
    "## UNIFICAR ARCHIVOS"
   ]
  },
  {
   "cell_type": "code",
   "execution_count": 10,
   "id": "4f049c98",
   "metadata": {},
   "outputs": [
    {
     "name": "stdout",
     "output_type": "stream",
     "text": [
      "✅ Archivo TXT guardado en: ../data/clean\\hogares_unificado.txt\n"
     ]
    }
   ],
   "source": [
    "from src.utils.helpers import procesar_archivos,guardar_en_txt\n",
    "# Ruta los archivos \n",
    "ruta = \"../data/raw\"\n",
    "ruta_destino = \"../data/clean\"\n",
    "\n",
    "\n",
    "# Procesar y guardar individuos\n",
    "hogares = procesar_archivos(ruta, tipo=\"hogar\")\n",
    "guardar_en_txt(hogares, ruta_destino, \"hogares_unificado.txt\")\n"
   ]
  },
  {
   "cell_type": "markdown",
   "id": "e6198fca",
   "metadata": {},
   "source": [
    "## PREPROCESAR ARCHIVOS"
   ]
  },
  {
   "cell_type": "code",
   "execution_count": 13,
   "id": "909a34c3",
   "metadata": {},
   "outputs": [
    {
     "ename": "ImportError",
     "evalue": "cannot import name 'add_columns_header' from 'src.utils.helpers' (c:\\Users\\PC\\Documents\\1) Estudios y Programacion\\Facultad\\Taller-de-Python\\EncuestAR\\src\\utils\\helpers.py)",
     "output_type": "error",
     "traceback": [
      "\u001b[1;31m---------------------------------------------------------------------------\u001b[0m",
      "\u001b[1;31mImportError\u001b[0m                               Traceback (most recent call last)",
      "Cell \u001b[1;32mIn[13], line 4\u001b[0m\n\u001b[0;32m      2\u001b[0m \u001b[38;5;28;01mimport\u001b[39;00m\u001b[38;5;250m \u001b[39m\u001b[38;5;21;01mcsv\u001b[39;00m\n\u001b[0;32m      3\u001b[0m \u001b[38;5;28;01mfrom\u001b[39;00m\u001b[38;5;250m \u001b[39m\u001b[38;5;21;01msrc\u001b[39;00m\u001b[38;5;21;01m.\u001b[39;00m\u001b[38;5;21;01mprocesamientos\u001b[39;00m\u001b[38;5;21;01m.\u001b[39;00m\u001b[38;5;21;01mhogares\u001b[39;00m\u001b[38;5;250m \u001b[39m\u001b[38;5;28;01mimport\u001b[39;00m proceso_hogar_fila\n\u001b[1;32m----> 4\u001b[0m \u001b[38;5;28;01mfrom\u001b[39;00m\u001b[38;5;250m \u001b[39m\u001b[38;5;21;01msrc\u001b[39;00m\u001b[38;5;21;01m.\u001b[39;00m\u001b[38;5;21;01mutils\u001b[39;00m\u001b[38;5;21;01m.\u001b[39;00m\u001b[38;5;21;01mhelpers\u001b[39;00m\u001b[38;5;250m \u001b[39m\u001b[38;5;28;01mimport\u001b[39;00m add_columns_header\n\u001b[0;32m      6\u001b[0m ruta \u001b[38;5;241m=\u001b[39m \u001b[38;5;124m\"\u001b[39m\u001b[38;5;124m../data/clean\u001b[39m\u001b[38;5;124m\"\u001b[39m\n\u001b[0;32m      7\u001b[0m archivo \u001b[38;5;241m=\u001b[39m \u001b[38;5;124m\"\u001b[39m\u001b[38;5;124mhogares_unificado.txt\u001b[39m\u001b[38;5;124m\"\u001b[39m\n",
      "\u001b[1;31mImportError\u001b[0m: cannot import name 'add_columns_header' from 'src.utils.helpers' (c:\\Users\\PC\\Documents\\1) Estudios y Programacion\\Facultad\\Taller-de-Python\\EncuestAR\\src\\utils\\helpers.py)"
     ]
    }
   ],
   "source": [
    "from pathlib import Path\n",
    "import csv\n",
    "from src.procesamientos.hogares import proceso_hogar_fila\n",
    "from src.utils.helpers import add_columns_header\n",
    "\n",
    "ruta = \"../data/clean\"\n",
    "archivo = \"hogares_unificado.txt\"\n",
    "ruta_archivo = Path(ruta) / archivo\n",
    "\n",
    "# Leer y procesar los datos\n",
    "filas_procesadas = []\n",
    "\n",
    "with open(ruta_archivo, mode='r', encoding='utf-8') as file_hogares:\n",
    "    csv_reader = csv.DictReader(file_hogares, delimiter=\";\")\n",
    "    header = csv_reader.fieldnames.copy()\n",
    "\n",
    "    # Agregar nuevas columnas al header\n",
    "    add_columns_header(header, \"TIPO_HOGAR\", \"MATERIAL_TECHUMBRE\", \"DENSIDAD_HOGAR\", \"CONDICION_DE_HABITABILIDAD\")\n",
    "\n",
    "    for fila in csv_reader:\n",
    "        fila_procesada = proceso_hogar_fila(fila)\n",
    "        filas_procesadas.append(fila_procesada)\n",
    "\n",
    "# Sobrescribir el archivo con los datos procesados\n",
    "with open(ruta_archivo, mode='w', encoding='utf-8', newline='') as file_hogar_det:\n",
    "    csv_writer = csv.DictWriter(file_hogar_det, delimiter=\";\", fieldnames=header)\n",
    "    csv_writer.writeheader()\n",
    "    csv_writer.writerows(filas_procesadas)\n",
    "\n",
    "print(\"✅ Archivo procesado, nuevas columnas agregadas y datos sobrescritos correctamente.\")\n"
   ]
  }
 ],
 "metadata": {
  "kernelspec": {
   "display_name": "Python 3",
   "language": "python",
   "name": "python3"
  },
  "language_info": {
   "codemirror_mode": {
    "name": "ipython",
    "version": 3
   },
   "file_extension": ".py",
   "mimetype": "text/x-python",
   "name": "python",
   "nbconvert_exporter": "python",
   "pygments_lexer": "ipython3",
   "version": "3.12.9"
  }
 },
 "nbformat": 4,
 "nbformat_minor": 5
}
