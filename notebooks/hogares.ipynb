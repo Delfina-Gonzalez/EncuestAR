{
 "cells": [
  {
   "cell_type": "markdown",
   "id": "da9c5f6e",
   "metadata": {},
   "source": [
    "## LIBERIAS"
   ]
  },
  {
   "cell_type": "code",
   "execution_count": null,
   "id": "6666c4f9",
   "metadata": {},
   "outputs": [],
   "source": [
    "import sys\n",
    "import os\n",
    "import csv\n",
    "from pathlib import Path\n"
   ]
  },
  {
   "cell_type": "markdown",
   "id": "0b1f974e",
   "metadata": {},
   "source": [
    "## UNIFICAR ARCHIVOS"
   ]
  },
  {
   "cell_type": "code",
   "execution_count": null,
   "id": "4f049c98",
   "metadata": {},
   "outputs": [],
   "source": [
    "from src.utils.helpers import procesar_archivos,guardar_en_csv\n",
    "# Ruta los archivos \n",
    "ruta = \"../data/raw\"\n",
    "ruta_destino = \"../data/clean\"\n",
    "\n",
    "\n",
    "# Procesar y guardar hogares\n",
    "hogares = procesar_archivos(ruta, tipo=\"hogar\")\n",
    "guardar_en_csv(hogares, ruta_destino, \"hogares_unificado.csv\")"
   ]
  },
  {
   "cell_type": "markdown",
   "id": "e6198fca",
   "metadata": {},
   "source": [
    "## PREPROCESAR ARCHIVOS"
   ]
  },
  {
   "cell_type": "code",
   "execution_count": null,
   "id": "909a34c3",
   "metadata": {},
   "outputs": [],
   "source": [
    "\n",
    "from src.procesamientos.hogares import proceso_hogar_fila\n",
    "\n",
    "ruta = \"../Data/data_clean\"\n",
    "archivo = \"individuales_unificado.txt\"\n",
    "ruta_archivo = Path(ruta) / archivo\n",
    "\n",
    "# Lista para almacenar las filas procesadas\n",
    "filas_procesadas = []\n",
    "\n",
    "# 1. Abrir el archivo en modo lectura para procesar las filas\n",
    "with ruta_archivo.open(mode='r', encoding='utf-8') as archivo_csv:\n",
    "    reader = csv.DictReader(archivo_csv, delimiter=\";\")\n",
    "    \n",
    "    for fila in reader:\n",
    "        fila_procesada = proceso_hogar_fila(fila)  \n",
    "        filas_procesadas.append(fila_procesada)\n",
    "\n",
    "# 2. Abrir el archivo nuevamente en modo escritura para sobrescribirlo\n",
    "with ruta_archivo.open(mode='w', encoding='utf-8', newline='') as archivo_csv:\n",
    "    writer = csv.DictWriter(archivo_csv, delimiter=\";\")\n",
    "    writer.writeheader(filas_procesadas.keys)\n",
    "    writer.writerows(filas_procesadas)\n",
    "\n",
    "print(\"✅ Archivo procesado y sobrescrito correctamente.\")\n",
    "\n",
    "# 3. Verificar el resultado\n",
    "with ruta_archivo.open(mode='r', encoding='utf-8') as archivo_csv:\n",
    "    reader = csv.reader(archivo_csv, delimiter=\";\")\n",
    "    for fila in reader:\n",
    "        print(fila)\n"
   ]
  }
 ],
 "metadata": {
  "kernelspec": {
   "display_name": "venv",
   "language": "python",
   "name": "python3"
  },
  "language_info": {
   "name": "python",
   "version": "3.12.9"
  }
 },
 "nbformat": 4,
 "nbformat_minor": 5
}
