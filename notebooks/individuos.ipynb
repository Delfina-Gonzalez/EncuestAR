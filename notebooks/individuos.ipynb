{
 "cells": [
  {
   "cell_type": "markdown",
   "id": "08bbb416",
   "metadata": {},
   "source": [
    "#EPH - Individuos\n"
   ]
  },
  {
   "cell_type": "code",
   "execution_count": 1,
   "id": "f9b10f75",
   "metadata": {},
   "outputs": [],
   "source": [
    "import sys\n",
    "import os\n",
    "import csv\n",
    "from pathlib import Path"
   ]
  },
  {
   "cell_type": "markdown",
   "id": "3bc107f4",
   "metadata": {},
   "source": [
    "Antes de comenzar, se establece la ruta a la fuente para no tener problemas en la importación de módulos.\n",
    "\n"
   ]
  },
  {
   "cell_type": "code",
   "execution_count": 2,
   "id": "5128be02",
   "metadata": {},
   "outputs": [
    {
     "name": "stdout",
     "output_type": "stream",
     "text": [
      "Ruta de 'src': c:\\Users\\PC\\Documents\\1) Estudios y Programacion\\Facultad\\Taller-de-Python\\EncuestAR\\src\n"
     ]
    }
   ],
   "source": [
    "# Ajustar la ruta para que Python reconozca la carpeta \"src\"\n",
    "ruta_proyecto = os.path.abspath(os.path.join(\"..\"))  \n",
    "sys.path.append(ruta_proyecto) \n",
    "# Verificación (debe mostrar la ruta a \"src/\")\n",
    "print(\"Ruta de 'src':\", os.path.join(ruta_proyecto, \"src\"))"
   ]
  },
  {
   "cell_type": "markdown",
   "id": "4660d2fc",
   "metadata": {},
   "source": [
    "## Unificación del archivo"
   ]
  },
  {
   "cell_type": "code",
   "execution_count": 3,
   "id": "8c84ad62",
   "metadata": {},
   "outputs": [
    {
     "name": "stdout",
     "output_type": "stream",
     "text": [
      "✅ Archivo TXT guardado en: ../data/clean\\individuos_unificado.txt\n"
     ]
    }
   ],
   "source": [
    "from src.utils.helpers import procesar_archivos,guardar_en_txt\n",
    "# Ruta los archivos \n",
    "ruta = \"../data/raw\"\n",
    "ruta_destino = \"../data/clean\"\n",
    "\n",
    "# Procesar y guardar individuos\n",
    "individual = procesar_archivos(ruta, tipo=\"individual\")\n",
    "guardar_en_txt(individual, ruta_destino, \"individuos_unificado.txt\")"
   ]
  }
 ],
 "metadata": {
  "kernelspec": {
   "display_name": "Python 3",
   "language": "python",
   "name": "python3"
  },
  "language_info": {
   "codemirror_mode": {
    "name": "ipython",
    "version": 3
   },
   "file_extension": ".py",
   "mimetype": "text/x-python",
   "name": "python",
   "nbconvert_exporter": "python",
   "pygments_lexer": "ipython3",
   "version": "3.12.9"
  }
 },
 "nbformat": 4,
 "nbformat_minor": 5
}
