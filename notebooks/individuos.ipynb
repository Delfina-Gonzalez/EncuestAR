{
 "cells": [
  {
   "cell_type": "markdown",
   "id": "08bbb416",
   "metadata": {},
   "source": [
    "#EPH - Individuos\n"
   ]
  },
  {
   "cell_type": "code",
   "execution_count": null,
   "id": "f9b10f75",
   "metadata": {},
   "outputs": [
    {
     "ename": "",
     "evalue": "",
     "output_type": "error",
     "traceback": [
      "\u001b[1;31mThe kernel failed to start as the Python Environment 'Python' is no longer available. Consider selecting another kernel or refreshing the list of Python Environments."
     ]
    }
   ],
   "source": [
    "import sys\n",
    "import os\n",
    "import csv\n",
    "from pathlib import Path"
   ]
  },
  {
   "cell_type": "markdown",
   "id": "3bc107f4",
   "metadata": {},
   "source": [
    "Antes de comenzar, se establece la ruta a la fuente para no tener problemas en la importación de módulos.\n",
    "\n"
   ]
  },
  {
   "cell_type": "code",
   "execution_count": null,
   "id": "5128be02",
   "metadata": {},
   "outputs": [
    {
     "ename": "",
     "evalue": "",
     "output_type": "error",
     "traceback": [
      "\u001b[1;31mThe kernel failed to start as the Python Environment 'Python' is no longer available. Consider selecting another kernel or refreshing the list of Python Environments."
     ]
    }
   ],
   "source": [
    "# Ajustar la ruta para que Python reconozca la carpeta \"src\"\n",
    "ruta_proyecto = os.path.abspath(os.path.join(\"..\"))  \n",
    "sys.path.append(ruta_proyecto) \n",
    "# Verificación (debe mostrar la ruta a \"src/\")\n",
    "print(\"Ruta de 'src':\", os.path.join(ruta_proyecto, \"src\"))"
   ]
  },
  {
   "cell_type": "markdown",
   "id": "4660d2fc",
   "metadata": {},
   "source": [
    "## Unificación del archivo"
   ]
  },
  {
   "cell_type": "code",
   "execution_count": null,
   "id": "8c84ad62",
   "metadata": {},
   "outputs": [
    {
     "name": "stdout",
     "output_type": "stream",
     "text": [
      "✅ Archivo CSV guardado en: ../data/clean\\individuos_unificado.csv\n"
     ]
    }
   ],
   "source": [
    "from src.utils.helpers import procesar_archivos,guardar_en_csv\n",
    "# Ruta los archivos \n",
    "ruta = \"../data/raw\"\n",
    "ruta_destino = \"../data/clean\"\n",
    "\n",
    "# Procesar y guardar individuos\n",
    "individual = procesar_archivos(ruta, tipo=\"individual\")\n",
    "guardar_en_csv(individual, ruta_destino, \"individuos_unificado.txt\")"
   ]
  }
 ],
 "metadata": {
  "kernelspec": {
   "display_name": "env",
   "language": "python",
   "name": "python3"
  },
  "language_info": {
   "codemirror_mode": {
    "name": "ipython",
    "version": 3
   },
   "file_extension": ".py",
   "mimetype": "text/x-python",
   "name": "python",
   "nbconvert_exporter": "python",
   "pygments_lexer": "ipython3",
   "version": "3.12.9"
  }
 },
 "nbformat": 4,
 "nbformat_minor": 5
}
