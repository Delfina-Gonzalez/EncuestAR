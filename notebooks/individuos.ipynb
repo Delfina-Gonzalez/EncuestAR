{
 "cells": [
  {
   "cell_type": "code",
   "execution_count": 10,
   "id": "c6769466",
   "metadata": {},
   "outputs": [],
   "source": [
    "## LIBERIAS"
   ]
  },
  {
   "cell_type": "code",
   "execution_count": 11,
   "id": "7d31835d",
   "metadata": {},
   "outputs": [],
   "source": [
    "import sys\n",
    "import os\n",
    "import csv\n",
    "from pathlib import Path"
   ]
  },
  {
   "cell_type": "code",
   "execution_count": null,
   "id": "5128be02",
   "metadata": {},
   "outputs": [],
   "source": [
    "# Ajustar la ruta para que Python reconozca la carpeta \"src\"\n",
    "ruta_proyecto = os.path.abspath(os.path.join(\"..\"))  \n",
    "sys.path.append(ruta_proyecto) \n",
    "# Verificación (debe mostrar la ruta a \"src/\")\n",
    "print(\"Ruta de 'src':\", os.path.join(ruta_proyecto, \"src\"))"
   ]
  },
  {
   "cell_type": "markdown",
   "id": "4660d2fc",
   "metadata": {},
   "source": [
    "## UNIFICAR ARCHIVOS"
   ]
  },
  {
   "cell_type": "code",
   "execution_count": 13,
   "id": "8c84ad62",
   "metadata": {},
   "outputs": [
    {
     "name": "stdout",
     "output_type": "stream",
     "text": [
      "✅ Archivo CSV guardado en: ../data/clean\\individuos_unificado.csv\n"
     ]
    }
   ],
   "source": [
    "from src.utils.helpers import procesar_archivos,guardar_en_csv\n",
    "# Ruta los archivos \n",
    "ruta = \"../data/raw\"\n",
    "ruta_destino = \"../data/clean\"\n",
    "\n",
    "# Procesar y guardar individuos\n",
    "individual = procesar_archivos(ruta, tipo=\"individual\")\n",
    "guardar_en_csv(individual, ruta_destino, \"individuos_unificado.csv\")"
   ]
  }
 ],
 "metadata": {
  "kernelspec": {
   "display_name": "venv",
   "language": "python",
   "name": "python3"
  },
  "language_info": {
   "codemirror_mode": {
    "name": "ipython",
    "version": 3
   },
   "file_extension": ".py",
   "mimetype": "text/x-python",
   "name": "python",
   "nbconvert_exporter": "python",
   "pygments_lexer": "ipython3",
   "version": "3.12.9"
  }
 },
 "nbformat": 4,
 "nbformat_minor": 5
}
